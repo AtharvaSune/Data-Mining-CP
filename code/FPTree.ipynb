{
 "cells": [
  {
   "cell_type": "markdown",
   "metadata": {},
   "source": [
    "# FP Growth Implementation\n",
    "\n",
    "Applies FP Growth Algorithm on the dataset to generate frequent itemsets."
   ]
  },
  {
   "cell_type": "code",
   "execution_count": 1,
   "metadata": {},
   "outputs": [],
   "source": [
    "import os\n",
    "import numpy as np\n",
    "import pandas as pd\n",
    "import matplotlib.pyplot as plt"
   ]
  },
  {
   "cell_type": "code",
   "execution_count": 2,
   "metadata": {},
   "outputs": [
    {
     "data": {
      "text/html": [
       "<div>\n",
       "<style scoped>\n",
       "    .dataframe tbody tr th:only-of-type {\n",
       "        vertical-align: middle;\n",
       "    }\n",
       "\n",
       "    .dataframe tbody tr th {\n",
       "        vertical-align: top;\n",
       "    }\n",
       "\n",
       "    .dataframe thead th {\n",
       "        text-align: right;\n",
       "    }\n",
       "</style>\n",
       "<table border=\"1\" class=\"dataframe\">\n",
       "  <thead>\n",
       "    <tr style=\"text-align: right;\">\n",
       "      <th></th>\n",
       "      <th>Season</th>\n",
       "      <th>Crop</th>\n",
       "      <th>Soil Type</th>\n",
       "      <th>Rainfall_Disc</th>\n",
       "      <th>Yield_Disc</th>\n",
       "      <th>Rainfall_Very_Low</th>\n",
       "      <th>Rainfall_Low</th>\n",
       "      <th>Rainfall_Medium</th>\n",
       "      <th>Rainfall_High</th>\n",
       "      <th>Rainfall_Very_High</th>\n",
       "      <th>Yield_Very_Low</th>\n",
       "      <th>Yield_Low</th>\n",
       "      <th>Yield_Medium</th>\n",
       "      <th>Yield_High</th>\n",
       "      <th>Yield_Very_High</th>\n",
       "    </tr>\n",
       "  </thead>\n",
       "  <tbody>\n",
       "    <tr>\n",
       "      <th>0</th>\n",
       "      <td>Whole Year</td>\n",
       "      <td>Cashewnut</td>\n",
       "      <td>Red</td>\n",
       "      <td>Medium</td>\n",
       "      <td>Low</td>\n",
       "      <td>0</td>\n",
       "      <td>0</td>\n",
       "      <td>1</td>\n",
       "      <td>0</td>\n",
       "      <td>0</td>\n",
       "      <td>0</td>\n",
       "      <td>1</td>\n",
       "      <td>0</td>\n",
       "      <td>0</td>\n",
       "      <td>0</td>\n",
       "    </tr>\n",
       "    <tr>\n",
       "      <th>1</th>\n",
       "      <td>Summer</td>\n",
       "      <td>Maize</td>\n",
       "      <td>Red</td>\n",
       "      <td>Low</td>\n",
       "      <td>Low</td>\n",
       "      <td>0</td>\n",
       "      <td>1</td>\n",
       "      <td>0</td>\n",
       "      <td>0</td>\n",
       "      <td>0</td>\n",
       "      <td>0</td>\n",
       "      <td>1</td>\n",
       "      <td>0</td>\n",
       "      <td>0</td>\n",
       "      <td>0</td>\n",
       "    </tr>\n",
       "    <tr>\n",
       "      <th>2</th>\n",
       "      <td>Kharif</td>\n",
       "      <td>Cotton(lint)</td>\n",
       "      <td>Red</td>\n",
       "      <td>Medium</td>\n",
       "      <td>Very_Low</td>\n",
       "      <td>0</td>\n",
       "      <td>0</td>\n",
       "      <td>1</td>\n",
       "      <td>0</td>\n",
       "      <td>0</td>\n",
       "      <td>1</td>\n",
       "      <td>0</td>\n",
       "      <td>0</td>\n",
       "      <td>0</td>\n",
       "      <td>0</td>\n",
       "    </tr>\n",
       "    <tr>\n",
       "      <th>3</th>\n",
       "      <td>Kharif</td>\n",
       "      <td>Sesamum</td>\n",
       "      <td>Alluvial</td>\n",
       "      <td>High</td>\n",
       "      <td>Very_Low</td>\n",
       "      <td>0</td>\n",
       "      <td>0</td>\n",
       "      <td>0</td>\n",
       "      <td>1</td>\n",
       "      <td>0</td>\n",
       "      <td>1</td>\n",
       "      <td>0</td>\n",
       "      <td>0</td>\n",
       "      <td>0</td>\n",
       "      <td>0</td>\n",
       "    </tr>\n",
       "    <tr>\n",
       "      <th>4</th>\n",
       "      <td>Rabi</td>\n",
       "      <td>Urad</td>\n",
       "      <td>Red</td>\n",
       "      <td>Low</td>\n",
       "      <td>Very_Low</td>\n",
       "      <td>0</td>\n",
       "      <td>1</td>\n",
       "      <td>0</td>\n",
       "      <td>0</td>\n",
       "      <td>0</td>\n",
       "      <td>1</td>\n",
       "      <td>0</td>\n",
       "      <td>0</td>\n",
       "      <td>0</td>\n",
       "      <td>0</td>\n",
       "    </tr>\n",
       "  </tbody>\n",
       "</table>\n",
       "</div>"
      ],
      "text/plain": [
       "       Season          Crop Soil Type Rainfall_Disc Yield_Disc  \\\n",
       "0  Whole Year     Cashewnut       Red        Medium        Low   \n",
       "1      Summer         Maize       Red           Low        Low   \n",
       "2      Kharif  Cotton(lint)       Red        Medium   Very_Low   \n",
       "3      Kharif       Sesamum  Alluvial          High   Very_Low   \n",
       "4        Rabi          Urad       Red           Low   Very_Low   \n",
       "\n",
       "   Rainfall_Very_Low  Rainfall_Low  Rainfall_Medium  Rainfall_High  \\\n",
       "0                  0             0                1              0   \n",
       "1                  0             1                0              0   \n",
       "2                  0             0                1              0   \n",
       "3                  0             0                0              1   \n",
       "4                  0             1                0              0   \n",
       "\n",
       "   Rainfall_Very_High  Yield_Very_Low  Yield_Low  Yield_Medium  Yield_High  \\\n",
       "0                   0               0          1             0           0   \n",
       "1                   0               0          1             0           0   \n",
       "2                   0               1          0             0           0   \n",
       "3                   0               1          0             0           0   \n",
       "4                   0               1          0             0           0   \n",
       "\n",
       "   Yield_Very_High  \n",
       "0                0  \n",
       "1                0  \n",
       "2                0  \n",
       "3                0  \n",
       "4                0  "
      ]
     },
     "execution_count": 2,
     "metadata": {},
     "output_type": "execute_result"
    }
   ],
   "source": [
    "db_path = os.path.join('.','data','7_Preprocess_Final.csv')\n",
    "db = pd.read_csv(db_path)\n",
    "db.head()"
   ]
  },
  {
   "cell_type": "markdown",
   "metadata": {},
   "source": [
    "### Preprocessing\n",
    "\n",
    "Drop the binary columns because they are too numerous. We prefer to append the keywords _Rainfall_ and _Yield_ to the data to make it more readable to us."
   ]
  },
  {
   "cell_type": "code",
   "execution_count": 3,
   "metadata": {},
   "outputs": [
    {
     "data": {
      "text/html": [
       "<div>\n",
       "<style scoped>\n",
       "    .dataframe tbody tr th:only-of-type {\n",
       "        vertical-align: middle;\n",
       "    }\n",
       "\n",
       "    .dataframe tbody tr th {\n",
       "        vertical-align: top;\n",
       "    }\n",
       "\n",
       "    .dataframe thead th {\n",
       "        text-align: right;\n",
       "    }\n",
       "</style>\n",
       "<table border=\"1\" class=\"dataframe\">\n",
       "  <thead>\n",
       "    <tr style=\"text-align: right;\">\n",
       "      <th></th>\n",
       "      <th>Season</th>\n",
       "      <th>Crop</th>\n",
       "      <th>Soil Type</th>\n",
       "      <th>Rainfall_Disc</th>\n",
       "      <th>Yield_Disc</th>\n",
       "    </tr>\n",
       "  </thead>\n",
       "  <tbody>\n",
       "    <tr>\n",
       "      <th>0</th>\n",
       "      <td>Whole Year</td>\n",
       "      <td>Cashewnut</td>\n",
       "      <td>Red</td>\n",
       "      <td>Medium</td>\n",
       "      <td>Low</td>\n",
       "    </tr>\n",
       "    <tr>\n",
       "      <th>1</th>\n",
       "      <td>Summer</td>\n",
       "      <td>Maize</td>\n",
       "      <td>Red</td>\n",
       "      <td>Low</td>\n",
       "      <td>Low</td>\n",
       "    </tr>\n",
       "    <tr>\n",
       "      <th>2</th>\n",
       "      <td>Kharif</td>\n",
       "      <td>Cotton(lint)</td>\n",
       "      <td>Red</td>\n",
       "      <td>Medium</td>\n",
       "      <td>Very_Low</td>\n",
       "    </tr>\n",
       "    <tr>\n",
       "      <th>3</th>\n",
       "      <td>Kharif</td>\n",
       "      <td>Sesamum</td>\n",
       "      <td>Alluvial</td>\n",
       "      <td>High</td>\n",
       "      <td>Very_Low</td>\n",
       "    </tr>\n",
       "    <tr>\n",
       "      <th>4</th>\n",
       "      <td>Rabi</td>\n",
       "      <td>Urad</td>\n",
       "      <td>Red</td>\n",
       "      <td>Low</td>\n",
       "      <td>Very_Low</td>\n",
       "    </tr>\n",
       "  </tbody>\n",
       "</table>\n",
       "</div>"
      ],
      "text/plain": [
       "       Season          Crop Soil Type Rainfall_Disc Yield_Disc\n",
       "0  Whole Year     Cashewnut       Red        Medium        Low\n",
       "1      Summer         Maize       Red           Low        Low\n",
       "2      Kharif  Cotton(lint)       Red        Medium   Very_Low\n",
       "3      Kharif       Sesamum  Alluvial          High   Very_Low\n",
       "4        Rabi          Urad       Red           Low   Very_Low"
      ]
     },
     "execution_count": 3,
     "metadata": {},
     "output_type": "execute_result"
    }
   ],
   "source": [
    "new_db = db[['Season', 'Crop', 'Soil Type', 'Rainfall_Disc', 'Yield_Disc']]\n",
    "new_db.head()"
   ]
  },
  {
   "cell_type": "code",
   "execution_count": 4,
   "metadata": {},
   "outputs": [],
   "source": [
    "x1 = new_db['Rainfall_Disc'].values\n",
    "x2 = new_db[\"Yield_Disc\"].values\n",
    "crops = list(set(new_db[\"Crop\"].values))"
   ]
  },
  {
   "cell_type": "code",
   "execution_count": 5,
   "metadata": {},
   "outputs": [],
   "source": [
    "for i in range(0, len(x1)):\n",
    "    x1[i] = x1[i]+\"_Rainfall\"\n",
    "for i in range(0, len(x2)):\n",
    "    x2[i] = x2[i]+\"_Yield\""
   ]
  },
  {
   "cell_type": "code",
   "execution_count": 6,
   "metadata": {},
   "outputs": [
    {
     "data": {
      "text/html": [
       "<div>\n",
       "<style scoped>\n",
       "    .dataframe tbody tr th:only-of-type {\n",
       "        vertical-align: middle;\n",
       "    }\n",
       "\n",
       "    .dataframe tbody tr th {\n",
       "        vertical-align: top;\n",
       "    }\n",
       "\n",
       "    .dataframe thead th {\n",
       "        text-align: right;\n",
       "    }\n",
       "</style>\n",
       "<table border=\"1\" class=\"dataframe\">\n",
       "  <thead>\n",
       "    <tr style=\"text-align: right;\">\n",
       "      <th></th>\n",
       "      <th>Season</th>\n",
       "      <th>Crop</th>\n",
       "      <th>Soil Type</th>\n",
       "      <th>Rainfall_Disc</th>\n",
       "      <th>Yield_Disc</th>\n",
       "    </tr>\n",
       "  </thead>\n",
       "  <tbody>\n",
       "    <tr>\n",
       "      <th>0</th>\n",
       "      <td>Whole Year</td>\n",
       "      <td>Cashewnut</td>\n",
       "      <td>Red</td>\n",
       "      <td>Medium_Rainfall</td>\n",
       "      <td>Low_Yield</td>\n",
       "    </tr>\n",
       "    <tr>\n",
       "      <th>1</th>\n",
       "      <td>Summer</td>\n",
       "      <td>Maize</td>\n",
       "      <td>Red</td>\n",
       "      <td>Low_Rainfall</td>\n",
       "      <td>Low_Yield</td>\n",
       "    </tr>\n",
       "    <tr>\n",
       "      <th>2</th>\n",
       "      <td>Kharif</td>\n",
       "      <td>Cotton(lint)</td>\n",
       "      <td>Red</td>\n",
       "      <td>Medium_Rainfall</td>\n",
       "      <td>Very_Low_Yield</td>\n",
       "    </tr>\n",
       "    <tr>\n",
       "      <th>3</th>\n",
       "      <td>Kharif</td>\n",
       "      <td>Sesamum</td>\n",
       "      <td>Alluvial</td>\n",
       "      <td>High_Rainfall</td>\n",
       "      <td>Very_Low_Yield</td>\n",
       "    </tr>\n",
       "    <tr>\n",
       "      <th>4</th>\n",
       "      <td>Rabi</td>\n",
       "      <td>Urad</td>\n",
       "      <td>Red</td>\n",
       "      <td>Low_Rainfall</td>\n",
       "      <td>Very_Low_Yield</td>\n",
       "    </tr>\n",
       "  </tbody>\n",
       "</table>\n",
       "</div>"
      ],
      "text/plain": [
       "       Season          Crop Soil Type    Rainfall_Disc      Yield_Disc\n",
       "0  Whole Year     Cashewnut       Red  Medium_Rainfall       Low_Yield\n",
       "1      Summer         Maize       Red     Low_Rainfall       Low_Yield\n",
       "2      Kharif  Cotton(lint)       Red  Medium_Rainfall  Very_Low_Yield\n",
       "3      Kharif       Sesamum  Alluvial    High_Rainfall  Very_Low_Yield\n",
       "4        Rabi          Urad       Red     Low_Rainfall  Very_Low_Yield"
      ]
     },
     "execution_count": 6,
     "metadata": {},
     "output_type": "execute_result"
    }
   ],
   "source": [
    "new_db.head()"
   ]
  },
  {
   "cell_type": "code",
   "execution_count": 7,
   "metadata": {},
   "outputs": [
    {
     "data": {
      "text/plain": [
       "array([['Whole Year', 'Cashewnut', 'Red', 'Medium_Rainfall', 'Low_Yield'],\n",
       "       ['Summer', 'Maize', 'Red', 'Low_Rainfall', 'Low_Yield'],\n",
       "       ['Kharif', 'Cotton(lint)', 'Red', 'Medium_Rainfall',\n",
       "        'Very_Low_Yield'],\n",
       "       ...,\n",
       "       ['Summer', 'Moong(Green Gram)', 'Alluvial', 'High_Rainfall',\n",
       "        'Very_Low_Yield'],\n",
       "       ['Whole Year', 'Onion', 'Alluvial', 'Low_Rainfall', 'High_Yield'],\n",
       "       ['Whole Year', 'Peas & beans (Pulses)', 'Black',\n",
       "        'Medium_Rainfall', 'Very_Low_Yield']], dtype=object)"
      ]
     },
     "execution_count": 7,
     "metadata": {},
     "output_type": "execute_result"
    }
   ],
   "source": [
    "new_db.values"
   ]
  },
  {
   "cell_type": "markdown",
   "metadata": {},
   "source": [
    "Convert the dataset into a 2D list to ease the data preparation for the FP Tree generation"
   ]
  },
  {
   "cell_type": "code",
   "execution_count": 8,
   "metadata": {},
   "outputs": [],
   "source": [
    "db = new_db.values.tolist()"
   ]
  },
  {
   "cell_type": "markdown",
   "metadata": {},
   "source": [
    "## Generating the Frequent Itemsets\n",
    "\n",
    "- We now prepare the dataset, keeping only the items which satisfy the minimum support threshold in our dataset\n",
    "- Then we create an FP Tree using the items in this dataset\n",
    "- Then we generate frequent itemsets by mining this FP Tree"
   ]
  },
  {
   "cell_type": "code",
   "execution_count": 9,
   "metadata": {},
   "outputs": [
    {
     "name": "stdout",
     "output_type": "stream",
     "text": [
      "No. of frequent itemsets generated: 7551\n"
     ]
    }
   ],
   "source": [
    "from tree import Tree\n",
    "from tree import dft\n",
    "from pprint import pprint\n",
    "\n",
    "support_count = {}\n",
    "min_support = 50\n",
    "\n",
    "# Determine the support count\n",
    "for transaction in db:\n",
    "    for item in transaction:\n",
    "        if item in support_count.keys():\n",
    "            support_count[item] += 1\n",
    "        else:\n",
    "            support_count[item] = 1\n",
    "\n",
    "freq_items = {}\n",
    "\n",
    "# Store the frequent items with their support count in a dictionary\n",
    "for item in support_count.keys():\n",
    "    if support_count[item] >= min_support:\n",
    "        freq_items[item] = support_count[item]\n",
    "\n",
    "# Sort this dictionary with support count as the key\n",
    "{k: v for k, v in sorted(freq_items.items(), key=lambda x: x[1], reverse=True)}\n",
    "\n",
    "# Prepare the dataset in the following way\n",
    "# for each transaction, intersect it with the set of frequent items\n",
    "# then sort the remaining items of the transaction based on the support counts\n",
    "new_db = []\n",
    "freq_item_list = set(freq_items.keys())\n",
    "\n",
    "for transaction in db:\n",
    "    transaction = list(set(transaction).intersection(freq_item_list))\n",
    "    transaction = sorted(transaction, key=lambda x: freq_items[x], reverse=True)\n",
    "    new_db.append(transaction)\n",
    "\n",
    "db = new_db\n",
    "\n",
    "# Create an FP Tree with the minimum support and the prepared dataset\n",
    "fp_tree = Tree(min_support)\n",
    "for transaction in db:\n",
    "    fp_tree.insert_transaction(transaction)\n",
    "\n",
    "# Mine the FP tree\n",
    "frequent_itemsets = fp_tree.mine_fp_tree([], {})\n",
    "# How many frequent itemsets are generated?\n",
    "print(\"No. of frequent itemsets generated:\", len(frequent_itemsets))"
   ]
  },
  {
   "cell_type": "markdown",
   "metadata": {},
   "source": [
    "We now collect all frequent itemsets of length 5 "
   ]
  },
  {
   "cell_type": "code",
   "execution_count": 10,
   "metadata": {},
   "outputs": [
    {
     "name": "stdout",
     "output_type": "stream",
     "text": [
      "No. of frequent itemsets of length 5: 782\n"
     ]
    }
   ],
   "source": [
    "useful_freq_itemsets = []\n",
    "for i in frequent_itemsets.keys():\n",
    "    if len(i) == 5:\n",
    "        useful_freq_itemsets.append(i)\n",
    "\n",
    "print(\"No. of frequent itemsets of length 5:\", len(useful_freq_itemsets))"
   ]
  },
  {
   "cell_type": "markdown",
   "metadata": {},
   "source": [
    "## Rule Generation\n",
    "\n",
    "We now generate rules based on the frequent itemsets.\n",
    "\n",
    "In our rules, we have _Yield_ and _Crops_ in the consequent and _Rainfall_, _Soil Type_ and _Season_ as the antecedent"
   ]
  },
  {
   "cell_type": "code",
   "execution_count": 11,
   "metadata": {},
   "outputs": [
    {
     "name": "stdout",
     "output_type": "stream",
     "text": [
      "No. of for rules generated: 782\n"
     ]
    }
   ],
   "source": [
    "import re\n",
    "\n",
    "rules = []\n",
    "for i in useful_freq_itemsets:\n",
    "    consequent = []\n",
    "    antecedent = []\n",
    "    for j in i:\n",
    "        if len(re.findall(r\"._Yield\", j)) > 0 or j in crops:\n",
    "            consequent.append(j)\n",
    "        else:\n",
    "            antecedent.append(j)\n",
    "\n",
    "    rules.append((antecedent, consequent))\n",
    "print(\"No. of for rules generated:\", len(rules))"
   ]
  },
  {
   "cell_type": "markdown",
   "metadata": {},
   "source": [
    "We now calculate confidence of each rule"
   ]
  },
  {
   "cell_type": "code",
   "execution_count": 12,
   "metadata": {},
   "outputs": [
    {
     "data": {
      "text/plain": [
       "[(['Red', 'Low_Rainfall', 'Whole Year'],\n",
       "  ['Very_High_Yield', 'Bhindi'],\n",
       "  0.02055045871559633),\n",
       " (['Medium_Rainfall', 'Alluvial', 'Rabi'],\n",
       "  ['Very_High_Yield', 'Pineapple'],\n",
       "  0.02360391479562464),\n",
       " (['Medium_Rainfall', 'Alluvial', 'Kharif'],\n",
       "  ['Very_High_Yield', 'Papaya'],\n",
       "  0.0073086058834277365),\n",
       " (['High_Rainfall', 'Whole Year', 'Mountain'],\n",
       "  ['Low_Yield', 'Oilseeds total'],\n",
       "  0.21727019498607242),\n",
       " (['Medium_Rainfall', 'Alluvial', 'Kharif'],\n",
       "  ['Very_High_Yield', 'Orange'],\n",
       "  0.006669102868627809)]"
      ]
     },
     "execution_count": 12,
     "metadata": {},
     "output_type": "execute_result"
    }
   ],
   "source": [
    "for k in range(0, len(rules)):\n",
    "    antecedent, consequent = set(rules[k][0]), set(rules[k][1])\n",
    "    sup_ante, sup_tot = 0, 0\n",
    "    for i in useful_freq_itemsets:\n",
    "        if antecedent.issubset(set(i)):\n",
    "            sup_ante += frequent_itemsets[tuple(i)]\n",
    "        if antecedent.union(consequent).issubset(set(i)):\n",
    "            sup_tot += frequent_itemsets[tuple(i)]\n",
    "            \n",
    "    confidence = sup_tot/sup_ante\n",
    "    rules[k] = (rules[k][0], rules[k][1], confidence)\n",
    "rules[0:5]"
   ]
  },
  {
   "cell_type": "markdown",
   "metadata": {},
   "source": [
    "We now define a mapping which eases our work of sorting our results on the basis of yield "
   ]
  },
  {
   "cell_type": "code",
   "execution_count": 13,
   "metadata": {},
   "outputs": [],
   "source": [
    "mapping = {}\n",
    "mapping['Very_Low_Yield'] = 0\n",
    "mapping['Low_Yield'] = 1\n",
    "mapping['Medium_Yield'] = 2\n",
    "mapping['High_Yield'] = 3\n",
    "mapping['Very_High_Yield'] = 4"
   ]
  },
  {
   "cell_type": "markdown",
   "metadata": {},
   "source": [
    "The `give_crops` function requires the season, soil type and the rainfall as the inputs and it gives a set of suggested crops sorted on the basis of the yield.\n",
    "\n",
    "We may take only the _very high_, _high_ and _medium_ yields for suggestions based on the number of results returned"
   ]
  },
  {
   "cell_type": "code",
   "execution_count": 14,
   "metadata": {},
   "outputs": [],
   "source": [
    "def give_crops(season=\"kharif\", soil_type=\"alluvial\", rainfall=\"medium_rainfall\", min_confidence=0):\n",
    "#     season = input(\"season: \")\n",
    "#     soil_type = input(\"soil type: \")\n",
    "#     rainfall = input(\"rainfall (input as very_low_rainfall, etc.): \")\n",
    "    \n",
    "    lis = [season, soil_type, rainfall]\n",
    "    found_set = []\n",
    "    for rule in rules:\n",
    "        comp = []\n",
    "        if rule[2] < min_confidence:\n",
    "            continue\n",
    "        for i in rule[0]:\n",
    "            comp.append(i.lower())\n",
    "        if set(comp) == set(lis):\n",
    "            found_set.append([rule[1], rule[2]])\n",
    "    \n",
    "    found_set = sorted(found_set, key=lambda x: mapping[x[0][0]], reverse=True)\n",
    "\n",
    "    return found_set"
   ]
  },
  {
   "cell_type": "markdown",
   "metadata": {},
   "source": [
    "Let us now see the recommendations for the crops given by the function"
   ]
  },
  {
   "cell_type": "code",
   "execution_count": 15,
   "metadata": {},
   "outputs": [
    {
     "name": "stdout",
     "output_type": "stream",
     "text": [
      "[[['Very_High_Yield', 'Onion'], 0.07931262392597488],\n",
      " [['Very_High_Yield', 'Potato'], 0.043621943159286185],\n",
      " [['Very_High_Yield', 'Wheat'], 0.11368142762723067],\n",
      " [['Very_High_Yield', 'Garlic'], 0.03502974223397224],\n",
      " [['High_Yield', 'Wheat'], 0.0680766688697951],\n",
      " [['Medium_Yield', 'Rapeseed &Mustard'], 0.07534699272967614],\n",
      " [['Low_Yield', 'Jowar'], 0.06345009914077991],\n",
      " [['Low_Yield', 'Rapeseed &Mustard'], 0.09980171844018507],\n",
      " [['Low_Yield', 'Gram'], 0.15928618638466624],\n",
      " [['Low_Yield', 'Masoor'], 0.04758757435558493],\n",
      " [['Low_Yield', 'Peas & beans (Pulses)'], 0.04758757435558493],\n",
      " [['Low_Yield', 'Other  Rabi pulses'], 0.04824851288830139],\n",
      " [['Very_Low_Yield', 'Gram'], 0.04560475875743556],\n",
      " [['Very_Low_Yield', 'Coriander'], 0.037012557832121616],\n",
      " [['Very_Low_Yield', 'Linseed'], 0.036351619299405155]]\n"
     ]
    }
   ],
   "source": [
    "# Test example\n",
    "# kharif\n",
    "# alluvial\n",
    "# medium_rainfall\n",
    "crop_recommendations = give_crops(\"rabi\", \"alluvial\", \"very_low_rainfall\", 0)\n",
    "pprint(crop_recommendations)"
   ]
  },
  {
   "cell_type": "markdown",
   "metadata": {},
   "source": [
    "We now discard the _low_yield_ and _very_low_yield_ recommendations and sort the set according to the confidence rules"
   ]
  },
  {
   "cell_type": "code",
   "execution_count": 16,
   "metadata": {},
   "outputs": [],
   "source": [
    "def give_recommendations(crop_recommendations):\n",
    "    vh = []\n",
    "    h = []\n",
    "    m = []\n",
    "    for r in crop_recommendations:\n",
    "        if \"Very_High\" in r[0][0]:\n",
    "            vh.append((r[0][1], r[1]))\n",
    "        elif \"High\" in r[0][0]:\n",
    "            h.append((r[0][1], r[1]))\n",
    "        elif \"Medium\" in r[0][0]:\n",
    "            m.append((r[0][1], r[1]))\n",
    "\n",
    "    vh = sorted(vh, key=lambda x: x[1], reverse=True)\n",
    "    h = sorted(h, key=lambda x:x[1], reverse=True)\n",
    "    m = sorted(m, key=lambda x:x[1], reverse=True)\n",
    "    \n",
    "    # print(vh, h, m)\n",
    "\n",
    "    final_suggestion = []\n",
    "    if len(vh)+len(h)+len(m) == 0:\n",
    "        print()\n",
    "        print(\"Sorry, no crops to suggest.\")\n",
    "        return\n",
    "    elif len(vh)+len(h) < 5:\n",
    "        final_suggestion = [i[0] for i in vh]\n",
    "        final_suggestion.extend([i[0] for i in h])\n",
    "        final_suggestion.extend(i[0] for i in m)\n",
    "    else:\n",
    "        final_suggestion = [i[0] for i in vh]\n",
    "        final_suggestion.extend([i[0] for i in h])\n",
    "\n",
    "    print()\n",
    "    print(\"Suggested Crops:\", final_suggestion)"
   ]
  },
  {
   "cell_type": "markdown",
   "metadata": {},
   "source": [
    "We can now test on more combinations of inputs"
   ]
  },
  {
   "cell_type": "code",
   "execution_count": 17,
   "metadata": {},
   "outputs": [
    {
     "name": "stdout",
     "output_type": "stream",
     "text": [
      "\n",
      "Suggested Crops: ['Wheat', 'Onion', 'Potato', 'Garlic', 'Wheat']\n",
      "\n",
      "Suggested Crops: ['Jute', 'Rice', 'Mesta', 'Sugarcane', 'Rice']\n",
      "\n",
      "Sorry, no crops to suggest.\n",
      "\n",
      "Sorry, no crops to suggest.\n"
     ]
    }
   ],
   "source": [
    "crops = give_crops(\"rabi\", \"alluvial\", \"very_low_rainfall\", 0.02)\n",
    "give_recommendations(crops)\n",
    "\n",
    "crops = give_crops(\"kharif\", \"alluvial\", \"medium_rainfall\", 0.02)\n",
    "give_recommendations(crops)\n",
    "\n",
    "crops = give_crops(\"kharif\", \"red\", \"very_low_rainfall\", 0.02)\n",
    "give_recommendations(crops)\n",
    "\n",
    "crops = give_crops(\"kharif\", \"arid\", \"very_low_rainfall\", 0.02)\n",
    "give_recommendations(crops)"
   ]
  }
 ],
 "metadata": {
  "kernelspec": {
   "display_name": "Python 3",
   "language": "python",
   "name": "python3"
  },
  "language_info": {
   "codemirror_mode": {
    "name": "ipython",
    "version": 3
   },
   "file_extension": ".py",
   "mimetype": "text/x-python",
   "name": "python",
   "nbconvert_exporter": "python",
   "pygments_lexer": "ipython3",
   "version": "3.6.7"
  }
 },
 "nbformat": 4,
 "nbformat_minor": 4
}
